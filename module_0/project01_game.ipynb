{
 "cells": [
  {
   "cell_type": "code",
   "execution_count": 32,
   "metadata": {},
   "outputs": [
    {
     "data": {
      "text/plain": [
       "20"
      ]
     },
     "execution_count": 32,
     "metadata": {},
     "output_type": "execute_result"
    }
   ],
   "source": [
    "import numpy as np\n",
    "\n",
    "def game(random_range):      # функция угадывания\n",
    "    random_value = np.random.randint(1,random_range)   # загадываем число от 1 до random_range\n",
    "    try_value = int(round(random_range/2,0))   # объявляем первую попытку, как середина диапазона\n",
    "    count_tryes = 0   # включаем счётчик кол-ва попыток\n",
    "    try_min = 1 # нижняя граница\n",
    "    try_max = random_range-1   # верхняя граница\n",
    "    \n",
    "    while True:\n",
    "        count_tryes += 1\n",
    "        if try_value == random_value:\n",
    "            #print(f'Угадано число {random_value} из диапозона от 1 до {random_range} за {count_tryes} раз')\n",
    "            break\n",
    "        else:\n",
    "            if try_value > random_value:\n",
    "                try_max = try_value - 1\n",
    "                try_value = int(round(try_value/2, 0))\n",
    "            else:\n",
    "                try_min = try_value + 1\n",
    "                try_value = try_min + int(round((try_max - try_min)/2, 0))\n",
    "    return count_tryes\n",
    "\n",
    "\n",
    "def av_scores(count_iterations):   # функция средней эффективности угадывания для count_iterations повторений\n",
    "    sum_trues = 0   # сумма счётчиков кол-ва попыток\n",
    "    for i in range (count_iterations):\n",
    "        sum_trues += game(random_range)\n",
    "    return int(round(sum_trues / i, 0))   #возвращаем среднюю эффективность угадывания\n",
    "\n",
    "\n",
    "random_range = 1001   # определяем диапозон случайного числа\n",
    "count_iterations = 10000   # на сколиких итерациях проверяем функцию\n",
    "\n",
    "av_scores(count_iterations)\n"
   ]
  }
 ],
 "metadata": {
  "kernelspec": {
   "display_name": "Python 3",
   "language": "python",
   "name": "python3"
  },
  "language_info": {
   "codemirror_mode": {
    "name": "ipython",
    "version": 3
   },
   "file_extension": ".py",
   "mimetype": "text/x-python",
   "name": "python",
   "nbconvert_exporter": "python",
   "pygments_lexer": "ipython3",
   "version": "3.7.4"
  }
 },
 "nbformat": 4,
 "nbformat_minor": 2
}
